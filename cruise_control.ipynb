{
 "cells": [
  {
   "cell_type": "code",
   "execution_count": 2,
   "metadata": {},
   "outputs": [],
   "source": [
    "import numpy as np\n",
    "import matplotlib.pyplot as plt\n",
    "from scipy.integrate import odeint"
   ]
  },
  {
   "cell_type": "code",
   "execution_count": 58,
   "metadata": {},
   "outputs": [],
   "source": [
    "#constants\n",
    "m = 1000\n",
    "g = 9.8\n",
    "Tm = 190\n",
    "Beta = 0.4\n",
    "wm = 420\n",
    "alpha1 = 40\n",
    "alpha2 = 25\n",
    "alpha3 = 16\n",
    "alpha4 = 12\n",
    "alpha5 = 10\n",
    "Cr = 0.01\n",
    "Cd = 0.32\n",
    "A = 3.2\n",
    "p =1.3"
   ]
  },
  {
   "cell_type": "code",
   "execution_count": 68,
   "metadata": {},
   "outputs": [],
   "source": [
    "def turque(x, alpha):\n",
    "    return Tm*(1-Beta*((alpha*x/wm-1)**2))"
   ]
  },
  {
   "cell_type": "code",
   "execution_count": 69,
   "metadata": {},
   "outputs": [],
   "source": [
    "def cruise_control(x,t,u, parameters={}):\n",
    "    dx = np.zeros((1,))\n",
    "    dx[0] = (alpha5*u*turque(x[0], alpha5)-m*g*Cr-0.5*p*Cd*A*(x[0]**2))/m\n",
    "    return dx"
   ]
  },
  {
   "cell_type": "code",
   "execution_count": 70,
   "metadata": {},
   "outputs": [],
   "source": [
    "K = 5\n",
    "u0 = 3.35\n",
    "def controller(x, ref):\n",
    "    cin = u0-K*(x - ref)\n",
    "    return cin"
   ]
  },
  {
   "cell_type": "code",
   "execution_count": 71,
   "metadata": {},
   "outputs": [],
   "source": [
    "initial=np.array([0])      \n",
    "final=np.array([80])"
   ]
  },
  {
   "cell_type": "code",
   "execution_count": 72,
   "metadata": {},
   "outputs": [],
   "source": [
    "#lqr\n",
    "# Time interval\n",
    "t = np.linspace(0,10,500)\n",
    "# Store results for plotting \n",
    "speed = np.zeros(len(t))\n",
    "u = np.zeros(len(t))\n",
    "\n",
    "# control limit\n",
    "op_hi = 100\n",
    "op_lo = -100\n",
    "\n",
    "x0 = initial\n",
    "speed[0] = initial[0]"
   ]
  },
  {
   "cell_type": "code",
   "execution_count": 73,
   "metadata": {},
   "outputs": [],
   "source": [
    "for i in range(len(t)-1):\n",
    "    ts = [t[i],t[i+1]]\n",
    "    u[i+1] = controller(x0, final)\n",
    "    if u[i+1]>op_hi:\n",
    "        u[i+1] = op_hi\n",
    "    elif u[i+1]<op_lo:\n",
    "        u[i+1] = op_lo\n",
    "    y = odeint(cruise_control, x0, ts, args=(u[i+1],))\n",
    "    speed[i+1]=y[-1]\n",
    "    x0 = y[-1]"
   ]
  },
  {
   "cell_type": "code",
   "execution_count": 74,
   "metadata": {},
   "outputs": [
    {
     "data": {
      "image/png": "[encoded data removed]",
      "text/plain": [
       "<Figure size 432x288 with 1 Axes>"
      ]
     },
     "metadata": {
      "needs_background": "light"
     },
     "output_type": "display_data"
    }
   ],
   "source": [
    "plt.figure()\n",
    "plt.title('speed')\n",
    "plt.plot(t,speed)\n",
    "plt.show()"
   ]
  },
  {
   "cell_type": "code",
   "execution_count": 22,
   "metadata": {},
   "outputs": [
    {
     "data": {
      "text/plain": [
       "array([2000])"
      ]
     },
     "execution_count": 22,
     "metadata": {},
     "output_type": "execute_result"
    }
   ],
   "source": []
  },
  {
   "cell_type": "code",
   "execution_count": null,
   "metadata": {},
   "outputs": [],
   "source": []
  }
 ],
 "metadata": {
  "kernelspec": {
   "display_name": "Python 3",
   "language": "python",
   "name": "python3"
  },
  "language_info": {
   "codemirror_mode": {
    "name": "ipython",
    "version": 3
   },
   "file_extension": ".py",
   "mimetype": "text/x-python",
   "name": "python",
   "nbconvert_exporter": "python",
   "pygments_lexer": "ipython3",
   "version": "3.8.5"
  }
 },
 "nbformat": 4,
 "nbformat_minor": 4
}
