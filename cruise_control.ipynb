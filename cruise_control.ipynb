{
 "cells": [
  {
   "cell_type": "code",
   "execution_count": 2,
   "metadata": {},
   "outputs": [],
   "source": [
    "import numpy as np\n",
    "import matplotlib.pyplot as plt\n",
    "from scipy.integrate import odeint"
   ]
  },
  {
   "cell_type": "code",
   "execution_count": 131,
   "metadata": {},
   "outputs": [],
   "source": [
    "#constants\n",
    "m = 1000\n",
    "g = 9.8\n",
    "Tm = 190\n",
    "Beta = 0.4\n",
    "wm = 420\n",
    "alpha1 = 40\n",
    "alpha2 = 25\n",
    "alpha3 = 16\n",
    "alpha4 = 12\n",
    "alpha5 = 10\n",
    "Cr = 0.01\n",
    "Cd = 0.32\n",
    "A = 3.2\n",
    "p =1.3"
   ]
  },
  {
   "cell_type": "code",
   "execution_count": 132,
   "metadata": {},
   "outputs": [],
   "source": [
    "def turque(x, alpha):\n",
    "    return Tm*(1-Beta*((alpha*x/wm-1)**2))"
   ]
  },
  {
   "cell_type": "code",
   "execution_count": 133,
   "metadata": {},
   "outputs": [],
   "source": [
    "def cruise_control(x,t,u, parameters={}):\n",
    "    dx = np.zeros((1,))\n",
    "    dx[0] = (alpha5*u*turque(x[0], alpha5)-m*g*Cr-0.5*p*Cd*A*(x[0]**2))/m\n",
    "    return dx"
   ]
  },
  {
   "cell_type": "code",
   "execution_count": 134,
   "metadata": {},
   "outputs": [],
   "source": [
    "K = 5\n",
    "u0 = 3.41\n",
    "def controller(x, ref):\n",
    "    cin = u0-K*(x - ref)\n",
    "    return cin"
   ]
  },
  {
   "cell_type": "code",
   "execution_count": 135,
   "metadata": {},
   "outputs": [],
   "source": [
    "initial=np.array([0])      \n",
    "final=np.array([80])"
   ]
  },
  {
   "cell_type": "code",
   "execution_count": 136,
   "metadata": {},
   "outputs": [],
   "source": [
    "#lqr\n",
    "# Time interval\n",
    "t = np.linspace(0,10,500)\n",
    "# Store results for plotting \n",
    "speed = np.zeros(len(t))\n",
    "u = np.zeros(len(t))\n",
    "\n",
    "# control limit\n",
    "op_hi = 100\n",
    "op_lo = -100\n",
    "\n",
    "x0 = initial\n",
    "speed[0] = initial[0]"
   ]
  },
  {
   "cell_type": "code",
   "execution_count": 137,
   "metadata": {},
   "outputs": [],
   "source": [
    "for i in range(len(t)-1):\n",
    "    ts = [t[i],t[i+1]]\n",
    "    u[i+1] = controller(x0, final)\n",
    "    if u[i+1]>op_hi:\n",
    "        u[i+1] = op_hi\n",
    "    elif u[i+1]<op_lo:\n",
    "        u[i+1] = op_lo\n",
    "    y = odeint(cruise_control, x0, ts, args=(u[i+1],))\n",
    "    speed[i+1]=y[-1]\n",
    "    x0 = y[-1]"
   ]
  },
  {
   "cell_type": "code",
   "execution_count": 138,
   "metadata": {},
   "outputs": [
    {
     "data": {
      "text/plain": [
       "[<matplotlib.lines.Line2D at 0x1b75c051340>]"
      ]
     },
     "execution_count": 138,
     "metadata": {},
     "output_type": "execute_result"
    },
    {
     "data": {
      "image/png": "[encoded data removed]",
      "text/plain": [
       "<Figure size 360x216 with 1 Axes>"
      ]
     },
     "metadata": {
      "needs_background": "light"
     },
     "output_type": "display_data"
    }
   ],
   "source": [
    "fig, ax = plt.subplots(figsize=(5, 3))\n",
    "ax.set_ylim(79,83)\n",
    "ax.set_xlim(7.8,10)\n",
    "ax.plot(t,speed)"
   ]
  },
  {
   "cell_type": "code",
   "execution_count": 139,
   "metadata": {},
   "outputs": [],
   "source": [
    "# speed"
   ]
  },
  {
   "cell_type": "code",
   "execution_count": 152,
   "metadata": {},
   "outputs": [],
   "source": [
    "#bias_attack\n",
    "t = np.linspace(0,10,500)\n",
    "# Store results for plotting \n",
    "speed = np.zeros(len(t))\n",
    "u = np.zeros(len(t))\n",
    "threshold = 50\n",
    "x0 = initial\n",
    "speed[0] = initial[0]\n",
    "for i in range(len(t)-1):\n",
    "    ts = [t[i],t[i+1]]\n",
    "    u[i+1] = controller(x0, final)\n",
    "    if i>399:\n",
    "        u[i+1]=controller(x0-threshold/100, final)\n",
    "    if u[i+1]>op_hi:\n",
    "        u[i+1] = op_hi\n",
    "    elif u[i+1]<op_lo:\n",
    "        u[i+1] = op_lo\n",
    "    y = odeint(cruise_control, x0, ts, args=(u[i+1],))\n",
    "    speed[i+1]=y[-1]\n",
    "    x0 = y[-1]"
   ]
  },
  {
   "cell_type": "code",
   "execution_count": 153,
   "metadata": {},
   "outputs": [
    {
     "data": {
      "text/plain": [
       "[<matplotlib.lines.Line2D at 0x1b75d7f3d00>]"
      ]
     },
     "execution_count": 153,
     "metadata": {},
     "output_type": "execute_result"
    },
    {
     "data": {
      "image/png": "[encoded data removed]",
      "text/plain": [
       "<Figure size 360x216 with 1 Axes>"
      ]
     },
     "metadata": {
      "needs_background": "light"
     },
     "output_type": "display_data"
    }
   ],
   "source": [
    "fig, ax = plt.subplots(figsize=(5, 3))\n",
    "ax.set_ylim(79,83)\n",
    "ax.set_xlim(7.8,10)\n",
    "ax.plot(t,speed)"
   ]
  },
  {
   "cell_type": "code",
   "execution_count": 154,
   "metadata": {},
   "outputs": [],
   "source": [
    "#surge_attack\n",
    "t = np.linspace(0,10,500)\n",
    "# Store results for plotting \n",
    "speed = np.zeros(len(t))\n",
    "u = np.zeros(len(t))\n",
    "threshold = 50\n",
    "x0 = initial\n",
    "speed[0] = initial[0]\n",
    "for i in range(len(t)-1):\n",
    "    ts = [t[i],t[i+1]]\n",
    "    u[i+1] = controller(x0, final)\n",
    "    if i==400:\n",
    "        u[i+1]=controller(x0-threshold, final)\n",
    "    if u[i+1]>op_hi:\n",
    "        u[i+1] = op_hi\n",
    "    elif u[i+1]<op_lo:\n",
    "        u[i+1] = op_lo\n",
    "    y = odeint(cruise_control, x0, ts, args=(u[i+1],))\n",
    "    speed[i+1]=y[-1]\n",
    "    x0 = y[-1]"
   ]
  },
  {
   "cell_type": "code",
   "execution_count": 155,
   "metadata": {},
   "outputs": [
    {
     "data": {
      "text/plain": [
       "[<matplotlib.lines.Line2D at 0x1b75d9833a0>]"
      ]
     },
     "execution_count": 155,
     "metadata": {},
     "output_type": "execute_result"
    },
    {
     "data": {
      "image/png": "[encoded data removed]",
      "text/plain": [
       "<Figure size 360x216 with 1 Axes>"
      ]
     },
     "metadata": {
      "needs_background": "light"
     },
     "output_type": "display_data"
    }
   ],
   "source": [
    "fig, ax = plt.subplots(figsize=(5, 3))\n",
    "ax.set_ylim(79,83)\n",
    "ax.set_xlim(7.8,10)\n",
    "ax.plot(t,speed)"
   ]
  },
  {
   "cell_type": "code",
   "execution_count": 156,
   "metadata": {},
   "outputs": [],
   "source": [
    "#geo_attack\n",
    "t = np.linspace(0,10,500)\n",
    "# Store results for plotting \n",
    "speed = np.zeros(len(t))\n",
    "u = np.zeros(len(t))\n",
    "threshold = 50\n",
    "x0 = initial\n",
    "speed[0] = initial[0]\n",
    "alpha=0.9\n",
    "beta=0.9\n",
    "for i in range(len(t)-1):\n",
    "    ts = [t[i],t[i+1]]\n",
    "    u[i+1] = controller(x0, final)\n",
    "    if i>399:\n",
    "        attack = beta*(alpha**(500-i))\n",
    "        u[i+1]=controller(x0-attack, final)\n",
    "    if u[i+1]>op_hi:\n",
    "        u[i+1] = op_hi\n",
    "    elif u[i+1]<op_lo:\n",
    "        u[i+1] = op_lo\n",
    "    y = odeint(cruise_control, x0, ts, args=(u[i+1],))\n",
    "    speed[i+1]=y[-1]\n",
    "    x0 = y[-1]"
   ]
  },
  {
   "cell_type": "code",
   "execution_count": 158,
   "metadata": {},
   "outputs": [
    {
     "data": {
      "text/plain": [
       "[<matplotlib.lines.Line2D at 0x1b75da32f40>]"
      ]
     },
     "execution_count": 158,
     "metadata": {},
     "output_type": "execute_result"
    },
    {
     "data": {
      "image/png": "[encoded data removed]",
      "text/plain": [
       "<Figure size 360x216 with 1 Axes>"
      ]
     },
     "metadata": {
      "needs_background": "light"
     },
     "output_type": "display_data"
    }
   ],
   "source": [
    "fig, ax = plt.subplots(figsize=(5, 3))\n",
    "ax.set_ylim(79,83)\n",
    "ax.set_xlim(7.8,10)\n",
    "ax.plot(t,speed)"
   ]
  },
  {
   "cell_type": "code",
   "execution_count": null,
   "metadata": {},
   "outputs": [],
   "source": []
  }
 ],
 "metadata": {
  "kernelspec": {
   "display_name": "Python 3",
   "language": "python",
   "name": "python3"
  },
  "language_info": {
   "codemirror_mode": {
    "name": "ipython",
    "version": 3
   },
   "file_extension": ".py",
   "mimetype": "text/x-python",
   "name": "python",
   "nbconvert_exporter": "python",
   "pygments_lexer": "ipython3",
   "version": "3.8.5"
  }
 },
 "nbformat": 4,
 "nbformat_minor": 4
}
