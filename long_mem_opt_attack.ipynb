{
 "cells": [
  {
   "cell_type": "code",
   "execution_count": 2,
   "id": "fourth-saturday",
   "metadata": {},
   "outputs": [],
   "source": [
    "import cvxopt\n",
    "from cvxopt import matrix, solvers\n",
    "from sim3 import vt, dc, ap, qd, RLC, DCS, dcspeed\n",
    "import numpy as np\n",
    "import math\n",
    "import control\n",
    "import scipy.linalg as linalg\n",
    "from scipy.optimize import linprog\n",
    "import matplotlib.pyplot as plt"
   ]
  },
  {
   "cell_type": "code",
   "execution_count": 3,
   "id": "saving-bosnia",
   "metadata": {},
   "outputs": [],
   "source": [
    "# Compute optimal hidden attack against long memory CUSUM detector\n",
    "# Input: a system, in [vt(), dc(), ap(), qd(), RLC(), DCS(), dcspeed()]\n",
    "\n",
    "def long_mem_opt_attack(system):\n",
    "    \n",
    "    # General info of the system\n",
    "    \n",
    "    start_state = [0] # doens't matter here\n",
    "    x_ref = np.array([[0]]) # rewritten ref = start_state, hope state keep constant\n",
    "    \n",
    "    cusum_thres = np.array([[system.thres]])  # self-defined\n",
    "    cusum_drift = 0  # can use drift = 0 for now\n",
    "    \n",
    "    # control_limit: control signal that guarantees state to reach ref, u_0 term in notes\n",
    "    # x_{i+1} = A @ x_i + B @ u_i, then u_i = control_limit => x_i = x_{i+1} = x_ref\n",
    "    # -B^{-1} @ (A-I) @ x_ref = control_limit\n",
    "    control_limit = 1.667 \n",
    "    \n",
    "    # limit_upbound: max control can take, tunable <= max control (first control) under surge attack\n",
    "    # run surge attack on given cusum_thres and cusum_drift, start from some high upper bound of surge attack\n",
    "    # then decrease this upper bound until you have attack > upper bound at some time, limit_upbound = upper bound\n",
    "    limit_upbound = 2.2 \n",
    "    \n",
    "    dis_A = np.array(system.sysd.A)\n",
    "    dis_B = np.array(system.sysd.B)\n",
    "    con_A = np.array(system.A)\n",
    "    con_B = np.array(system.B)\n",
    "    A_dimension = len(dis_A)\n",
    "    limit_array = np.array([[control_limit]])\n",
    "    mins = []\n",
    "    sols = []\n",
    "    \n",
    "    # Begin formulate LP problem, treat 100 as infinity in time\n",
    "    steps = 100\n",
    "        \n",
    "    Big_A = -np.eye(A_dimension * steps) # coeffs of vars (states under opt attack at each step)\n",
    "    Big_B = []  # constant upper bounds of vars\n",
    "    Obj = [0] * steps\n",
    "    Q = np.eye(A_dimension)\n",
    "    R = [[1]]\n",
    "        \n",
    "    # Solve CARE for optimal control K backward from infinity horizon\n",
    "    P = np.matrix(linalg.solve_continuous_are(con_A, con_B, Q, R))\n",
    "    K = np.matrix(linalg.inv(R) * (con_B.T * P))\n",
    "        \n",
    "    # First rows of Big_A: cusum_i <= cusum_threshold for all step i\n",
    "    print(\"Preparing cusum constraints of A ...\")\n",
    "    mask = np.tril(np.ones((steps,steps)), -1)\n",
    "    sub_A = dis_A - dis_B @ K - np.eye(A_dimension) \n",
    "    lower_A = np.kron(mask, sub_A)\n",
    "    Big_A = np.array(Big_A + lower_A)\n",
    "        \n",
    "    # Next rows of Big_A: control constraints\n",
    "    print(\"Preparing control constraints of A ...\")\n",
    "    control_limit_array = np.zeros((steps,steps))\n",
    "    for i in range(1, steps):\n",
    "        control_limit_array[i, i-1] = -(K)[0][0,0]\n",
    "    Big_A = np.concatenate((Big_A, control_limit_array))\n",
    "        \n",
    "    # Final rows of Big_A: absolute value constraint on |est_state - measured_state|\n",
    "    print(\"Preparing abs value constraints of A ...\")\n",
    "    attack_limit = np.eye(steps)\n",
    "    for i in range(1, steps):\n",
    "        attack_limit[i,i-1] = -(sub_A[0][0,0]+1)\n",
    "    Big_A = np.concatenate((Big_A,attack_limit))\n",
    "    \n",
    "    # For short mem attack, modify Big_B with short_window\n",
    "    # First rows of Big_B: cusum threshold\n",
    "    print(\"Preparing cusum constraints of B ...\")\n",
    "    cusum_thres_term = cusum_thres - (dis_A - dis_B @ K) @ start_state\n",
    "    cusum_drift_term = cusum_drift - dis_B @ K @ x_ref - dis_B * control_limit\n",
    "    for i in range(steps):\n",
    "        this_B =  cusum_thres_term + cusum_drift_term * (i+1)\n",
    "        for j in range(A_dimension):\n",
    "            Big_B.append(this_B[j][0,0])\n",
    "        \n",
    "    # Next rows of Big_B: control constraints\n",
    "    print(\"Preparing control constraints of B ...\")\n",
    "    limit_upbound_term = (limit_upbound - K @ x_ref - limit_array)[0][0,0]\n",
    "    for i in range(steps):\n",
    "        Big_B.append(limit_upbound_term)\n",
    "            \n",
    "    # Final rows of Big_B: absolute value constraint on |est_state - measured_state|\n",
    "    print(\"Preparing abs value constraints of B ...\")\n",
    "    this_B_non_init_term = dis_B @ K @ x_ref + dis_B * control_limit - cusum_drift\n",
    "    this_B_init_term = this_B_non_init_term + (dis_A - dis_B @ K) @ start_state\n",
    "    for i in range(steps):\n",
    "        if i == 0:\n",
    "            absolute_value_term = this_B_init_term[0][0, 0]\n",
    "        else:\n",
    "            absolute_value_term = this_B_non_init_term[0][0, 0]\n",
    "        Big_B.append(absolute_value_term)\n",
    "            \n",
    "    # Solve LP for every step, output solved vars and opt objective\n",
    "    print(\"Solving LP for every step ...\")\n",
    "    for i in range(steps):\n",
    "        # Prepare coeffs in objective\n",
    "        Obj = [0] * steps\n",
    "        if i == 0:\n",
    "            continue\n",
    "        else:\n",
    "            for j in range(i, 0, -1): \n",
    "                mix1 = -(np.linalg.matrix_power(dis_A, j-1) @ dis_B @ K)\n",
    "                Obj[i-j] = (mix1[0, :][0, 0])\n",
    "        # Solve\n",
    "        sol = solvers.lp(matrix(Obj, (len(Obj), 1), 'd'), matrix(Big_A), matrix(Big_B, (len(Big_B), 1), 'd'), solver='glpk')\n",
    "        sols.append(list(sol['x']))\n",
    "        mins.append(sol['primal objective'])\n",
    "    \n",
    "    return sols, mins"
   ]
  },
  {
   "cell_type": "code",
   "execution_count": 4,
   "id": "relevant-guatemala",
   "metadata": {},
   "outputs": [
    {
     "name": "stdout",
     "output_type": "stream",
     "text": [
      "Preparing cusum constraints of A ...\n",
      "Preparing control constraints of A ...\n",
      "Preparing abs value constraints of A ...\n",
      "Preparing cusum constraints of B ...\n",
      "Preparing control constraints of B ...\n",
      "Preparing abs value constraints of B ...\n",
      "Solving LP for every step ...\n",
      "(99, 100)\n"
     ]
    }
   ],
   "source": [
    "sols, mins = long_mem_opt_attack(vt())\n",
    "sols = np.array(sols)\n",
    "print(sols.shape)"
   ]
  },
  {
   "cell_type": "code",
   "execution_count": 6,
   "id": "taken-syndicate",
   "metadata": {},
   "outputs": [
    {
     "data": {
      "text/plain": [
       "[<matplotlib.lines.Line2D at 0x233509dcfd0>]"
      ]
     },
     "execution_count": 6,
     "metadata": {},
     "output_type": "execute_result"
    },
    {
     "data": {
      "image/png": "[encoded data removed]",
      "text/plain": [
       "<Figure size 360x216 with 1 Axes>"
      ]
     },
     "metadata": {
      "needs_background": "light"
     },
     "output_type": "display_data"
    }
   ],
   "source": [
    "# Column i of sols is the attack trajectory that can cause max deviation of state at time i\n",
    "x_opt_attack = sols[:, 20]\n",
    "fig, ax = plt.subplots(figsize=(5, 3))\n",
    "ax.plot(np.arange(len(x_opt_attack)), x_opt_attack, color = 'Orange', linewidth=2, marker='v')"
   ]
  },
  {
   "cell_type": "code",
   "execution_count": null,
   "id": "adequate-hands",
   "metadata": {},
   "outputs": [],
   "source": []
  }
 ],
 "metadata": {
  "kernelspec": {
   "display_name": "Python 3",
   "language": "python",
   "name": "python3"
  },
  "language_info": {
   "codemirror_mode": {
    "name": "ipython",
    "version": 3
   },
   "file_extension": ".py",
   "mimetype": "text/x-python",
   "name": "python",
   "nbconvert_exporter": "python",
   "pygments_lexer": "ipython3",
   "version": "3.7.3"
  }
 },
 "nbformat": 4,
 "nbformat_minor": 5
}
