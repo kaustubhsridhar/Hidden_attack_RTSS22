{
 "cells": [
  {
   "cell_type": "code",
   "execution_count": 9,
   "metadata": {},
   "outputs": [],
   "source": [
    "import numpy as np"
   ]
  },
  {
   "cell_type": "markdown",
   "metadata": {},
   "source": [
    "We need a function to run optimization, we also need to return the max_deviation state"
   ]
  },
  {
   "cell_type": "code",
   "execution_count": 10,
   "metadata": {},
   "outputs": [],
   "source": [
    "def optimize(start_state=0, future_steps=100, thres=1, drift=1):\n",
    "    return 0"
   ]
  },
  {
   "cell_type": "code",
   "execution_count": 11,
   "metadata": {},
   "outputs": [],
   "source": [
    "# assume we have an optimization function\n",
    "def search(unsafe_bound=0,current_max_deviation=0, current_start_state=0, state_lower_bound=0):\n",
    "    '''\n",
    "    return a new start state by the binary search\n",
    "    we can assume current_start_state < unsafe_bound\n",
    "    '''\n",
    "\n",
    "    if (unsafe>current_max_deviation):\n",
    "        return (unsafe_bound+current_start_state)/2\n",
    "    else:\n",
    "        return (state_lower_bound+current_start_state)/2\n",
    "        \n",
    "    "
   ]
  },
  {
   "cell_type": "code",
   "execution_count": 12,
   "metadata": {},
   "outputs": [],
   "source": [
    "def search_loop(unsafe_bound=0, current_max_deviation=0, current_start_state=0,\n",
    "                state_lower_bound=0, stop_epsilon=0.001, difference=1):\n",
    "    '''\n",
    "    return the conditionally safe bound\n",
    "    '''\n",
    "    while(difference>stop_epsilon):\n",
    "        new_start = search()\n",
    "        new_max_deviation = optimize(new_start)\n",
    "        difference = abs(unsafe-new_max_deviation)\n",
    "        current_start_state = new_start\n",
    "        current_max_deviation = new_max_deviation\n",
    "    return current_start_state"
   ]
  },
  {
   "cell_type": "code",
   "execution_count": null,
   "metadata": {},
   "outputs": [],
   "source": []
  },
  {
   "cell_type": "code",
   "execution_count": null,
   "metadata": {},
   "outputs": [],
   "source": []
  }
 ],
 "metadata": {
  "kernelspec": {
   "display_name": "Python 3",
   "language": "python",
   "name": "python3"
  },
  "language_info": {
   "codemirror_mode": {
    "name": "ipython",
    "version": 3
   },
   "file_extension": ".py",
   "mimetype": "text/x-python",
   "name": "python",
   "nbconvert_exporter": "python",
   "pygments_lexer": "ipython3",
   "version": "3.8.5"
  }
 },
 "nbformat": 4,
 "nbformat_minor": 4
}
